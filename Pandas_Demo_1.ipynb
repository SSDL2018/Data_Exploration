{
 "cells": [
  {
   "cell_type": "code",
   "execution_count": 1,
   "id": "652a6eca",
   "metadata": {},
   "outputs": [],
   "source": [
    "import pandas as pd "
   ]
  },
  {
   "cell_type": "code",
   "execution_count": 3,
   "id": "aefd1787",
   "metadata": {},
   "outputs": [],
   "source": [
    "df = pd.read_csv('Data/stack-overflow-developer-survey-2019/survey_results_public.csv')"
   ]
  },
  {
   "cell_type": "code",
   "execution_count": 4,
   "id": "1836dc29",
   "metadata": {},
   "outputs": [
    {
     "data": {
      "text/html": [
       "<div>\n",
       "<style scoped>\n",
       "    .dataframe tbody tr th:only-of-type {\n",
       "        vertical-align: middle;\n",
       "    }\n",
       "\n",
       "    .dataframe tbody tr th {\n",
       "        vertical-align: top;\n",
       "    }\n",
       "\n",
       "    .dataframe thead th {\n",
       "        text-align: right;\n",
       "    }\n",
       "</style>\n",
       "<table border=\"1\" class=\"dataframe\">\n",
       "  <thead>\n",
       "    <tr style=\"text-align: right;\">\n",
       "      <th></th>\n",
       "      <th>Respondent</th>\n",
       "      <th>MainBranch</th>\n",
       "      <th>Hobbyist</th>\n",
       "      <th>OpenSourcer</th>\n",
       "      <th>OpenSource</th>\n",
       "      <th>Employment</th>\n",
       "      <th>Country</th>\n",
       "      <th>Student</th>\n",
       "      <th>EdLevel</th>\n",
       "      <th>UndergradMajor</th>\n",
       "      <th>...</th>\n",
       "      <th>WelcomeChange</th>\n",
       "      <th>SONewContent</th>\n",
       "      <th>Age</th>\n",
       "      <th>Gender</th>\n",
       "      <th>Trans</th>\n",
       "      <th>Sexuality</th>\n",
       "      <th>Ethnicity</th>\n",
       "      <th>Dependents</th>\n",
       "      <th>SurveyLength</th>\n",
       "      <th>SurveyEase</th>\n",
       "    </tr>\n",
       "  </thead>\n",
       "  <tbody>\n",
       "    <tr>\n",
       "      <th>0</th>\n",
       "      <td>1</td>\n",
       "      <td>I am a student who is learning to code</td>\n",
       "      <td>Yes</td>\n",
       "      <td>Never</td>\n",
       "      <td>The quality of OSS and closed source software ...</td>\n",
       "      <td>Not employed, and not looking for work</td>\n",
       "      <td>United Kingdom</td>\n",
       "      <td>No</td>\n",
       "      <td>Primary/elementary school</td>\n",
       "      <td>NaN</td>\n",
       "      <td>...</td>\n",
       "      <td>Just as welcome now as I felt last year</td>\n",
       "      <td>Tech articles written by other developers;Indu...</td>\n",
       "      <td>14.0</td>\n",
       "      <td>Man</td>\n",
       "      <td>No</td>\n",
       "      <td>Straight / Heterosexual</td>\n",
       "      <td>NaN</td>\n",
       "      <td>No</td>\n",
       "      <td>Appropriate in length</td>\n",
       "      <td>Neither easy nor difficult</td>\n",
       "    </tr>\n",
       "    <tr>\n",
       "      <th>1</th>\n",
       "      <td>2</td>\n",
       "      <td>I am a student who is learning to code</td>\n",
       "      <td>No</td>\n",
       "      <td>Less than once per year</td>\n",
       "      <td>The quality of OSS and closed source software ...</td>\n",
       "      <td>Not employed, but looking for work</td>\n",
       "      <td>Bosnia and Herzegovina</td>\n",
       "      <td>Yes, full-time</td>\n",
       "      <td>Secondary school (e.g. American high school, G...</td>\n",
       "      <td>NaN</td>\n",
       "      <td>...</td>\n",
       "      <td>Just as welcome now as I felt last year</td>\n",
       "      <td>Tech articles written by other developers;Indu...</td>\n",
       "      <td>19.0</td>\n",
       "      <td>Man</td>\n",
       "      <td>No</td>\n",
       "      <td>Straight / Heterosexual</td>\n",
       "      <td>NaN</td>\n",
       "      <td>No</td>\n",
       "      <td>Appropriate in length</td>\n",
       "      <td>Neither easy nor difficult</td>\n",
       "    </tr>\n",
       "    <tr>\n",
       "      <th>2</th>\n",
       "      <td>3</td>\n",
       "      <td>I am not primarily a developer, but I write co...</td>\n",
       "      <td>Yes</td>\n",
       "      <td>Never</td>\n",
       "      <td>The quality of OSS and closed source software ...</td>\n",
       "      <td>Employed full-time</td>\n",
       "      <td>Thailand</td>\n",
       "      <td>No</td>\n",
       "      <td>Bachelor’s degree (BA, BS, B.Eng., etc.)</td>\n",
       "      <td>Web development or web design</td>\n",
       "      <td>...</td>\n",
       "      <td>Just as welcome now as I felt last year</td>\n",
       "      <td>Tech meetups or events in your area;Courses on...</td>\n",
       "      <td>28.0</td>\n",
       "      <td>Man</td>\n",
       "      <td>No</td>\n",
       "      <td>Straight / Heterosexual</td>\n",
       "      <td>NaN</td>\n",
       "      <td>Yes</td>\n",
       "      <td>Appropriate in length</td>\n",
       "      <td>Neither easy nor difficult</td>\n",
       "    </tr>\n",
       "    <tr>\n",
       "      <th>3</th>\n",
       "      <td>4</td>\n",
       "      <td>I am a developer by profession</td>\n",
       "      <td>No</td>\n",
       "      <td>Never</td>\n",
       "      <td>The quality of OSS and closed source software ...</td>\n",
       "      <td>Employed full-time</td>\n",
       "      <td>United States</td>\n",
       "      <td>No</td>\n",
       "      <td>Bachelor’s degree (BA, BS, B.Eng., etc.)</td>\n",
       "      <td>Computer science, computer engineering, or sof...</td>\n",
       "      <td>...</td>\n",
       "      <td>Just as welcome now as I felt last year</td>\n",
       "      <td>Tech articles written by other developers;Indu...</td>\n",
       "      <td>22.0</td>\n",
       "      <td>Man</td>\n",
       "      <td>No</td>\n",
       "      <td>Straight / Heterosexual</td>\n",
       "      <td>White or of European descent</td>\n",
       "      <td>No</td>\n",
       "      <td>Appropriate in length</td>\n",
       "      <td>Easy</td>\n",
       "    </tr>\n",
       "    <tr>\n",
       "      <th>4</th>\n",
       "      <td>5</td>\n",
       "      <td>I am a developer by profession</td>\n",
       "      <td>Yes</td>\n",
       "      <td>Once a month or more often</td>\n",
       "      <td>OSS is, on average, of HIGHER quality than pro...</td>\n",
       "      <td>Employed full-time</td>\n",
       "      <td>Ukraine</td>\n",
       "      <td>No</td>\n",
       "      <td>Bachelor’s degree (BA, BS, B.Eng., etc.)</td>\n",
       "      <td>Computer science, computer engineering, or sof...</td>\n",
       "      <td>...</td>\n",
       "      <td>Just as welcome now as I felt last year</td>\n",
       "      <td>Tech meetups or events in your area;Courses on...</td>\n",
       "      <td>30.0</td>\n",
       "      <td>Man</td>\n",
       "      <td>No</td>\n",
       "      <td>Straight / Heterosexual</td>\n",
       "      <td>White or of European descent;Multiracial</td>\n",
       "      <td>No</td>\n",
       "      <td>Appropriate in length</td>\n",
       "      <td>Easy</td>\n",
       "    </tr>\n",
       "    <tr>\n",
       "      <th>...</th>\n",
       "      <td>...</td>\n",
       "      <td>...</td>\n",
       "      <td>...</td>\n",
       "      <td>...</td>\n",
       "      <td>...</td>\n",
       "      <td>...</td>\n",
       "      <td>...</td>\n",
       "      <td>...</td>\n",
       "      <td>...</td>\n",
       "      <td>...</td>\n",
       "      <td>...</td>\n",
       "      <td>...</td>\n",
       "      <td>...</td>\n",
       "      <td>...</td>\n",
       "      <td>...</td>\n",
       "      <td>...</td>\n",
       "      <td>...</td>\n",
       "      <td>...</td>\n",
       "      <td>...</td>\n",
       "      <td>...</td>\n",
       "      <td>...</td>\n",
       "    </tr>\n",
       "    <tr>\n",
       "      <th>88878</th>\n",
       "      <td>88377</td>\n",
       "      <td>NaN</td>\n",
       "      <td>Yes</td>\n",
       "      <td>Less than once a month but more than once per ...</td>\n",
       "      <td>The quality of OSS and closed source software ...</td>\n",
       "      <td>Not employed, and not looking for work</td>\n",
       "      <td>Canada</td>\n",
       "      <td>No</td>\n",
       "      <td>Primary/elementary school</td>\n",
       "      <td>NaN</td>\n",
       "      <td>...</td>\n",
       "      <td>NaN</td>\n",
       "      <td>Tech articles written by other developers;Tech...</td>\n",
       "      <td>NaN</td>\n",
       "      <td>Man</td>\n",
       "      <td>No</td>\n",
       "      <td>NaN</td>\n",
       "      <td>NaN</td>\n",
       "      <td>No</td>\n",
       "      <td>Appropriate in length</td>\n",
       "      <td>Easy</td>\n",
       "    </tr>\n",
       "    <tr>\n",
       "      <th>88879</th>\n",
       "      <td>88601</td>\n",
       "      <td>NaN</td>\n",
       "      <td>No</td>\n",
       "      <td>Never</td>\n",
       "      <td>The quality of OSS and closed source software ...</td>\n",
       "      <td>NaN</td>\n",
       "      <td>NaN</td>\n",
       "      <td>NaN</td>\n",
       "      <td>NaN</td>\n",
       "      <td>NaN</td>\n",
       "      <td>...</td>\n",
       "      <td>NaN</td>\n",
       "      <td>NaN</td>\n",
       "      <td>NaN</td>\n",
       "      <td>NaN</td>\n",
       "      <td>NaN</td>\n",
       "      <td>NaN</td>\n",
       "      <td>NaN</td>\n",
       "      <td>NaN</td>\n",
       "      <td>NaN</td>\n",
       "      <td>NaN</td>\n",
       "    </tr>\n",
       "    <tr>\n",
       "      <th>88880</th>\n",
       "      <td>88802</td>\n",
       "      <td>NaN</td>\n",
       "      <td>No</td>\n",
       "      <td>Never</td>\n",
       "      <td>NaN</td>\n",
       "      <td>Employed full-time</td>\n",
       "      <td>NaN</td>\n",
       "      <td>NaN</td>\n",
       "      <td>NaN</td>\n",
       "      <td>NaN</td>\n",
       "      <td>...</td>\n",
       "      <td>NaN</td>\n",
       "      <td>NaN</td>\n",
       "      <td>NaN</td>\n",
       "      <td>NaN</td>\n",
       "      <td>NaN</td>\n",
       "      <td>NaN</td>\n",
       "      <td>NaN</td>\n",
       "      <td>NaN</td>\n",
       "      <td>NaN</td>\n",
       "      <td>NaN</td>\n",
       "    </tr>\n",
       "    <tr>\n",
       "      <th>88881</th>\n",
       "      <td>88816</td>\n",
       "      <td>NaN</td>\n",
       "      <td>No</td>\n",
       "      <td>Never</td>\n",
       "      <td>OSS is, on average, of HIGHER quality than pro...</td>\n",
       "      <td>Independent contractor, freelancer, or self-em...</td>\n",
       "      <td>NaN</td>\n",
       "      <td>NaN</td>\n",
       "      <td>NaN</td>\n",
       "      <td>NaN</td>\n",
       "      <td>...</td>\n",
       "      <td>NaN</td>\n",
       "      <td>NaN</td>\n",
       "      <td>NaN</td>\n",
       "      <td>NaN</td>\n",
       "      <td>NaN</td>\n",
       "      <td>NaN</td>\n",
       "      <td>NaN</td>\n",
       "      <td>NaN</td>\n",
       "      <td>NaN</td>\n",
       "      <td>NaN</td>\n",
       "    </tr>\n",
       "    <tr>\n",
       "      <th>88882</th>\n",
       "      <td>88863</td>\n",
       "      <td>NaN</td>\n",
       "      <td>Yes</td>\n",
       "      <td>Less than once per year</td>\n",
       "      <td>OSS is, on average, of HIGHER quality than pro...</td>\n",
       "      <td>Not employed, and not looking for work</td>\n",
       "      <td>Spain</td>\n",
       "      <td>Yes, full-time</td>\n",
       "      <td>Professional degree (JD, MD, etc.)</td>\n",
       "      <td>Computer science, computer engineering, or sof...</td>\n",
       "      <td>...</td>\n",
       "      <td>Somewhat less welcome now than last year</td>\n",
       "      <td>Tech articles written by other developers;Indu...</td>\n",
       "      <td>18.0</td>\n",
       "      <td>Man</td>\n",
       "      <td>No</td>\n",
       "      <td>Straight / Heterosexual</td>\n",
       "      <td>Hispanic or Latino/Latina;White or of European...</td>\n",
       "      <td>No</td>\n",
       "      <td>Appropriate in length</td>\n",
       "      <td>Easy</td>\n",
       "    </tr>\n",
       "  </tbody>\n",
       "</table>\n",
       "<p>88883 rows × 85 columns</p>\n",
       "</div>"
      ],
      "text/plain": [
       "       Respondent                                         MainBranch Hobbyist  \\\n",
       "0               1             I am a student who is learning to code      Yes   \n",
       "1               2             I am a student who is learning to code       No   \n",
       "2               3  I am not primarily a developer, but I write co...      Yes   \n",
       "3               4                     I am a developer by profession       No   \n",
       "4               5                     I am a developer by profession      Yes   \n",
       "...           ...                                                ...      ...   \n",
       "88878       88377                                                NaN      Yes   \n",
       "88879       88601                                                NaN       No   \n",
       "88880       88802                                                NaN       No   \n",
       "88881       88816                                                NaN       No   \n",
       "88882       88863                                                NaN      Yes   \n",
       "\n",
       "                                             OpenSourcer  \\\n",
       "0                                                  Never   \n",
       "1                                Less than once per year   \n",
       "2                                                  Never   \n",
       "3                                                  Never   \n",
       "4                             Once a month or more often   \n",
       "...                                                  ...   \n",
       "88878  Less than once a month but more than once per ...   \n",
       "88879                                              Never   \n",
       "88880                                              Never   \n",
       "88881                                              Never   \n",
       "88882                            Less than once per year   \n",
       "\n",
       "                                              OpenSource  \\\n",
       "0      The quality of OSS and closed source software ...   \n",
       "1      The quality of OSS and closed source software ...   \n",
       "2      The quality of OSS and closed source software ...   \n",
       "3      The quality of OSS and closed source software ...   \n",
       "4      OSS is, on average, of HIGHER quality than pro...   \n",
       "...                                                  ...   \n",
       "88878  The quality of OSS and closed source software ...   \n",
       "88879  The quality of OSS and closed source software ...   \n",
       "88880                                                NaN   \n",
       "88881  OSS is, on average, of HIGHER quality than pro...   \n",
       "88882  OSS is, on average, of HIGHER quality than pro...   \n",
       "\n",
       "                                              Employment  \\\n",
       "0                 Not employed, and not looking for work   \n",
       "1                     Not employed, but looking for work   \n",
       "2                                     Employed full-time   \n",
       "3                                     Employed full-time   \n",
       "4                                     Employed full-time   \n",
       "...                                                  ...   \n",
       "88878             Not employed, and not looking for work   \n",
       "88879                                                NaN   \n",
       "88880                                 Employed full-time   \n",
       "88881  Independent contractor, freelancer, or self-em...   \n",
       "88882             Not employed, and not looking for work   \n",
       "\n",
       "                      Country         Student  \\\n",
       "0              United Kingdom              No   \n",
       "1      Bosnia and Herzegovina  Yes, full-time   \n",
       "2                    Thailand              No   \n",
       "3               United States              No   \n",
       "4                     Ukraine              No   \n",
       "...                       ...             ...   \n",
       "88878                  Canada              No   \n",
       "88879                     NaN             NaN   \n",
       "88880                     NaN             NaN   \n",
       "88881                     NaN             NaN   \n",
       "88882                   Spain  Yes, full-time   \n",
       "\n",
       "                                                 EdLevel  \\\n",
       "0                              Primary/elementary school   \n",
       "1      Secondary school (e.g. American high school, G...   \n",
       "2               Bachelor’s degree (BA, BS, B.Eng., etc.)   \n",
       "3               Bachelor’s degree (BA, BS, B.Eng., etc.)   \n",
       "4               Bachelor’s degree (BA, BS, B.Eng., etc.)   \n",
       "...                                                  ...   \n",
       "88878                          Primary/elementary school   \n",
       "88879                                                NaN   \n",
       "88880                                                NaN   \n",
       "88881                                                NaN   \n",
       "88882                 Professional degree (JD, MD, etc.)   \n",
       "\n",
       "                                          UndergradMajor  ...  \\\n",
       "0                                                    NaN  ...   \n",
       "1                                                    NaN  ...   \n",
       "2                          Web development or web design  ...   \n",
       "3      Computer science, computer engineering, or sof...  ...   \n",
       "4      Computer science, computer engineering, or sof...  ...   \n",
       "...                                                  ...  ...   \n",
       "88878                                                NaN  ...   \n",
       "88879                                                NaN  ...   \n",
       "88880                                                NaN  ...   \n",
       "88881                                                NaN  ...   \n",
       "88882  Computer science, computer engineering, or sof...  ...   \n",
       "\n",
       "                                  WelcomeChange  \\\n",
       "0       Just as welcome now as I felt last year   \n",
       "1       Just as welcome now as I felt last year   \n",
       "2       Just as welcome now as I felt last year   \n",
       "3       Just as welcome now as I felt last year   \n",
       "4       Just as welcome now as I felt last year   \n",
       "...                                         ...   \n",
       "88878                                       NaN   \n",
       "88879                                       NaN   \n",
       "88880                                       NaN   \n",
       "88881                                       NaN   \n",
       "88882  Somewhat less welcome now than last year   \n",
       "\n",
       "                                            SONewContent   Age Gender Trans  \\\n",
       "0      Tech articles written by other developers;Indu...  14.0    Man    No   \n",
       "1      Tech articles written by other developers;Indu...  19.0    Man    No   \n",
       "2      Tech meetups or events in your area;Courses on...  28.0    Man    No   \n",
       "3      Tech articles written by other developers;Indu...  22.0    Man    No   \n",
       "4      Tech meetups or events in your area;Courses on...  30.0    Man    No   \n",
       "...                                                  ...   ...    ...   ...   \n",
       "88878  Tech articles written by other developers;Tech...   NaN    Man    No   \n",
       "88879                                                NaN   NaN    NaN   NaN   \n",
       "88880                                                NaN   NaN    NaN   NaN   \n",
       "88881                                                NaN   NaN    NaN   NaN   \n",
       "88882  Tech articles written by other developers;Indu...  18.0    Man    No   \n",
       "\n",
       "                     Sexuality  \\\n",
       "0      Straight / Heterosexual   \n",
       "1      Straight / Heterosexual   \n",
       "2      Straight / Heterosexual   \n",
       "3      Straight / Heterosexual   \n",
       "4      Straight / Heterosexual   \n",
       "...                        ...   \n",
       "88878                      NaN   \n",
       "88879                      NaN   \n",
       "88880                      NaN   \n",
       "88881                      NaN   \n",
       "88882  Straight / Heterosexual   \n",
       "\n",
       "                                               Ethnicity Dependents  \\\n",
       "0                                                    NaN         No   \n",
       "1                                                    NaN         No   \n",
       "2                                                    NaN        Yes   \n",
       "3                           White or of European descent         No   \n",
       "4               White or of European descent;Multiracial         No   \n",
       "...                                                  ...        ...   \n",
       "88878                                                NaN         No   \n",
       "88879                                                NaN        NaN   \n",
       "88880                                                NaN        NaN   \n",
       "88881                                                NaN        NaN   \n",
       "88882  Hispanic or Latino/Latina;White or of European...         No   \n",
       "\n",
       "                SurveyLength                  SurveyEase  \n",
       "0      Appropriate in length  Neither easy nor difficult  \n",
       "1      Appropriate in length  Neither easy nor difficult  \n",
       "2      Appropriate in length  Neither easy nor difficult  \n",
       "3      Appropriate in length                        Easy  \n",
       "4      Appropriate in length                        Easy  \n",
       "...                      ...                         ...  \n",
       "88878  Appropriate in length                        Easy  \n",
       "88879                    NaN                         NaN  \n",
       "88880                    NaN                         NaN  \n",
       "88881                    NaN                         NaN  \n",
       "88882  Appropriate in length                        Easy  \n",
       "\n",
       "[88883 rows x 85 columns]"
      ]
     },
     "execution_count": 4,
     "metadata": {},
     "output_type": "execute_result"
    }
   ],
   "source": [
    "df"
   ]
  },
  {
   "cell_type": "code",
   "execution_count": 5,
   "id": "8bd0b5bb",
   "metadata": {},
   "outputs": [
    {
     "data": {
      "text/plain": [
       "(88883, 85)"
      ]
     },
     "execution_count": 5,
     "metadata": {},
     "output_type": "execute_result"
    }
   ],
   "source": [
    "df.shape"
   ]
  },
  {
   "cell_type": "code",
   "execution_count": 7,
   "id": "c5ce72e9",
   "metadata": {},
   "outputs": [
    {
     "name": "stdout",
     "output_type": "stream",
     "text": [
      "<class 'pandas.core.frame.DataFrame'>\n",
      "RangeIndex: 88883 entries, 0 to 88882\n",
      "Data columns (total 85 columns):\n",
      " #   Column                  Non-Null Count  Dtype  \n",
      "---  ------                  --------------  -----  \n",
      " 0   Respondent              88883 non-null  int64  \n",
      " 1   MainBranch              88331 non-null  object \n",
      " 2   Hobbyist                88883 non-null  object \n",
      " 3   OpenSourcer             88883 non-null  object \n",
      " 4   OpenSource              86842 non-null  object \n",
      " 5   Employment              87181 non-null  object \n",
      " 6   Country                 88751 non-null  object \n",
      " 7   Student                 87014 non-null  object \n",
      " 8   EdLevel                 86390 non-null  object \n",
      " 9   UndergradMajor          75614 non-null  object \n",
      " 10  EduOther                84260 non-null  object \n",
      " 11  OrgSize                 71791 non-null  object \n",
      " 12  DevType                 81335 non-null  object \n",
      " 13  YearsCode               87938 non-null  object \n",
      " 14  Age1stCode              87634 non-null  object \n",
      " 15  YearsCodePro            74331 non-null  object \n",
      " 16  CareerSat               72847 non-null  object \n",
      " 17  JobSat                  70988 non-null  object \n",
      " 18  MgrIdiot                61159 non-null  object \n",
      " 19  MgrMoney                61157 non-null  object \n",
      " 20  MgrWant                 61232 non-null  object \n",
      " 21  JobSeek                 80555 non-null  object \n",
      " 22  LastHireDate            79854 non-null  object \n",
      " 23  LastInt                 67155 non-null  object \n",
      " 24  FizzBuzz                71344 non-null  object \n",
      " 25  JobFactors              79371 non-null  object \n",
      " 26  ResumeUpdate            77877 non-null  object \n",
      " 27  CurrencySymbol          71392 non-null  object \n",
      " 28  CurrencyDesc            71392 non-null  object \n",
      " 29  CompTotal               55945 non-null  float64\n",
      " 30  CompFreq                63268 non-null  object \n",
      " 31  ConvertedComp           55823 non-null  float64\n",
      " 32  WorkWeekHrs             64503 non-null  float64\n",
      " 33  WorkPlan                68914 non-null  object \n",
      " 34  WorkChallenge           68141 non-null  object \n",
      " 35  WorkRemote              70284 non-null  object \n",
      " 36  WorkLoc                 70055 non-null  object \n",
      " 37  ImpSyn                  71779 non-null  object \n",
      " 38  CodeRev                 70390 non-null  object \n",
      " 39  CodeRevHrs              49790 non-null  float64\n",
      " 40  UnitTests               62668 non-null  object \n",
      " 41  PurchaseHow             61108 non-null  object \n",
      " 42  PurchaseWhat            62029 non-null  object \n",
      " 43  LanguageWorkedWith      87569 non-null  object \n",
      " 44  LanguageDesireNextYear  84088 non-null  object \n",
      " 45  DatabaseWorkedWith      76026 non-null  object \n",
      " 46  DatabaseDesireNextYear  69147 non-null  object \n",
      " 47  PlatformWorkedWith      80714 non-null  object \n",
      " 48  PlatformDesireNextYear  77443 non-null  object \n",
      " 49  WebFrameWorkedWith      65022 non-null  object \n",
      " 50  WebFrameDesireNextYear  62944 non-null  object \n",
      " 51  MiscTechWorkedWith      59586 non-null  object \n",
      " 52  MiscTechDesireNextYear  64511 non-null  object \n",
      " 53  DevEnviron              87317 non-null  object \n",
      " 54  OpSys                   87851 non-null  object \n",
      " 55  Containers              85366 non-null  object \n",
      " 56  BlockchainOrg           48175 non-null  object \n",
      " 57  BlockchainIs            60165 non-null  object \n",
      " 58  BetterLife              86269 non-null  object \n",
      " 59  ITperson                87141 non-null  object \n",
      " 60  OffOn                   86663 non-null  object \n",
      " 61  SocialMedia             84437 non-null  object \n",
      " 62  Extraversion            87305 non-null  object \n",
      " 63  ScreenName              80486 non-null  object \n",
      " 64  SOVisit1st              83877 non-null  object \n",
      " 65  SOVisitFreq             88263 non-null  object \n",
      " 66  SOVisitTo               88086 non-null  object \n",
      " 67  SOFindAnswer            87816 non-null  object \n",
      " 68  SOTimeSaved             86344 non-null  object \n",
      " 69  SOHowMuchTime           68378 non-null  object \n",
      " 70  SOAccount               87828 non-null  object \n",
      " 71  SOPartFreq              74692 non-null  object \n",
      " 72  SOJobs                  88066 non-null  object \n",
      " 73  EntTeams                87841 non-null  object \n",
      " 74  SOComm                  88131 non-null  object \n",
      " 75  WelcomeChange           85855 non-null  object \n",
      " 76  SONewContent            69560 non-null  object \n",
      " 77  Age                     79210 non-null  float64\n",
      " 78  Gender                  85406 non-null  object \n",
      " 79  Trans                   83607 non-null  object \n",
      " 80  Sexuality               76147 non-null  object \n",
      " 81  Ethnicity               76668 non-null  object \n",
      " 82  Dependents              83059 non-null  object \n",
      " 83  SurveyLength            86984 non-null  object \n",
      " 84  SurveyEase              87081 non-null  object \n",
      "dtypes: float64(5), int64(1), object(79)\n",
      "memory usage: 57.6+ MB\n"
     ]
    }
   ],
   "source": [
    "df.info()"
   ]
  },
  {
   "cell_type": "code",
   "execution_count": 10,
   "id": "370fa213",
   "metadata": {},
   "outputs": [],
   "source": [
    "pd.set_option('display.max_column', 100)\n",
    "# df"
   ]
  },
  {
   "cell_type": "code",
   "execution_count": 12,
   "id": "a6ff8afa",
   "metadata": {},
   "outputs": [
    {
     "data": {
      "text/html": [
       "<div>\n",
       "<style scoped>\n",
       "    .dataframe tbody tr th:only-of-type {\n",
       "        vertical-align: middle;\n",
       "    }\n",
       "\n",
       "    .dataframe tbody tr th {\n",
       "        vertical-align: top;\n",
       "    }\n",
       "\n",
       "    .dataframe thead th {\n",
       "        text-align: right;\n",
       "    }\n",
       "</style>\n",
       "<table border=\"1\" class=\"dataframe\">\n",
       "  <thead>\n",
       "    <tr style=\"text-align: right;\">\n",
       "      <th></th>\n",
       "      <th>Column</th>\n",
       "      <th>QuestionText</th>\n",
       "    </tr>\n",
       "  </thead>\n",
       "  <tbody>\n",
       "    <tr>\n",
       "      <th>0</th>\n",
       "      <td>Respondent</td>\n",
       "      <td>Randomized respondent ID number (not in order ...</td>\n",
       "    </tr>\n",
       "    <tr>\n",
       "      <th>1</th>\n",
       "      <td>MainBranch</td>\n",
       "      <td>Which of the following options best describes ...</td>\n",
       "    </tr>\n",
       "    <tr>\n",
       "      <th>2</th>\n",
       "      <td>Hobbyist</td>\n",
       "      <td>Do you code as a hobby?</td>\n",
       "    </tr>\n",
       "    <tr>\n",
       "      <th>3</th>\n",
       "      <td>OpenSourcer</td>\n",
       "      <td>How often do you contribute to open source?</td>\n",
       "    </tr>\n",
       "    <tr>\n",
       "      <th>4</th>\n",
       "      <td>OpenSource</td>\n",
       "      <td>How do you feel about the quality of open sour...</td>\n",
       "    </tr>\n",
       "    <tr>\n",
       "      <th>...</th>\n",
       "      <td>...</td>\n",
       "      <td>...</td>\n",
       "    </tr>\n",
       "    <tr>\n",
       "      <th>80</th>\n",
       "      <td>Sexuality</td>\n",
       "      <td>Which of the following do you currently identi...</td>\n",
       "    </tr>\n",
       "    <tr>\n",
       "      <th>81</th>\n",
       "      <td>Ethnicity</td>\n",
       "      <td>Which of the following do you identify as? Ple...</td>\n",
       "    </tr>\n",
       "    <tr>\n",
       "      <th>82</th>\n",
       "      <td>Dependents</td>\n",
       "      <td>Do you have any dependents (e.g., children, el...</td>\n",
       "    </tr>\n",
       "    <tr>\n",
       "      <th>83</th>\n",
       "      <td>SurveyLength</td>\n",
       "      <td>How do you feel about the length of the survey...</td>\n",
       "    </tr>\n",
       "    <tr>\n",
       "      <th>84</th>\n",
       "      <td>SurveyEase</td>\n",
       "      <td>How easy or difficult was this survey to compl...</td>\n",
       "    </tr>\n",
       "  </tbody>\n",
       "</table>\n",
       "<p>85 rows × 2 columns</p>\n",
       "</div>"
      ],
      "text/plain": [
       "          Column                                       QuestionText\n",
       "0     Respondent  Randomized respondent ID number (not in order ...\n",
       "1     MainBranch  Which of the following options best describes ...\n",
       "2       Hobbyist                            Do you code as a hobby?\n",
       "3    OpenSourcer        How often do you contribute to open source?\n",
       "4     OpenSource  How do you feel about the quality of open sour...\n",
       "..           ...                                                ...\n",
       "80     Sexuality  Which of the following do you currently identi...\n",
       "81     Ethnicity  Which of the following do you identify as? Ple...\n",
       "82    Dependents  Do you have any dependents (e.g., children, el...\n",
       "83  SurveyLength  How do you feel about the length of the survey...\n",
       "84    SurveyEase  How easy or difficult was this survey to compl...\n",
       "\n",
       "[85 rows x 2 columns]"
      ]
     },
     "execution_count": 12,
     "metadata": {},
     "output_type": "execute_result"
    }
   ],
   "source": [
    "schema_df = pd.read_csv('Data/stack-overflow-developer-survey-2019/survey_results_schema.csv')\n",
    "schema_df"
   ]
  },
  {
   "cell_type": "code",
   "execution_count": 13,
   "id": "30d22638",
   "metadata": {},
   "outputs": [
    {
     "data": {
      "text/html": [
       "<div>\n",
       "<style scoped>\n",
       "    .dataframe tbody tr th:only-of-type {\n",
       "        vertical-align: middle;\n",
       "    }\n",
       "\n",
       "    .dataframe tbody tr th {\n",
       "        vertical-align: top;\n",
       "    }\n",
       "\n",
       "    .dataframe thead th {\n",
       "        text-align: right;\n",
       "    }\n",
       "</style>\n",
       "<table border=\"1\" class=\"dataframe\">\n",
       "  <thead>\n",
       "    <tr style=\"text-align: right;\">\n",
       "      <th></th>\n",
       "      <th>Column</th>\n",
       "      <th>QuestionText</th>\n",
       "    </tr>\n",
       "  </thead>\n",
       "  <tbody>\n",
       "    <tr>\n",
       "      <th>0</th>\n",
       "      <td>Respondent</td>\n",
       "      <td>Randomized respondent ID number (not in order ...</td>\n",
       "    </tr>\n",
       "    <tr>\n",
       "      <th>1</th>\n",
       "      <td>MainBranch</td>\n",
       "      <td>Which of the following options best describes ...</td>\n",
       "    </tr>\n",
       "    <tr>\n",
       "      <th>2</th>\n",
       "      <td>Hobbyist</td>\n",
       "      <td>Do you code as a hobby?</td>\n",
       "    </tr>\n",
       "    <tr>\n",
       "      <th>3</th>\n",
       "      <td>OpenSourcer</td>\n",
       "      <td>How often do you contribute to open source?</td>\n",
       "    </tr>\n",
       "    <tr>\n",
       "      <th>4</th>\n",
       "      <td>OpenSource</td>\n",
       "      <td>How do you feel about the quality of open sour...</td>\n",
       "    </tr>\n",
       "    <tr>\n",
       "      <th>5</th>\n",
       "      <td>Employment</td>\n",
       "      <td>Which of the following best describes your cur...</td>\n",
       "    </tr>\n",
       "    <tr>\n",
       "      <th>6</th>\n",
       "      <td>Country</td>\n",
       "      <td>In which country do you currently reside?</td>\n",
       "    </tr>\n",
       "    <tr>\n",
       "      <th>7</th>\n",
       "      <td>Student</td>\n",
       "      <td>Are you currently enrolled in a formal, degree...</td>\n",
       "    </tr>\n",
       "    <tr>\n",
       "      <th>8</th>\n",
       "      <td>EdLevel</td>\n",
       "      <td>Which of the following best describes the high...</td>\n",
       "    </tr>\n",
       "    <tr>\n",
       "      <th>9</th>\n",
       "      <td>UndergradMajor</td>\n",
       "      <td>What was your main or most important field of ...</td>\n",
       "    </tr>\n",
       "  </tbody>\n",
       "</table>\n",
       "</div>"
      ],
      "text/plain": [
       "           Column                                       QuestionText\n",
       "0      Respondent  Randomized respondent ID number (not in order ...\n",
       "1      MainBranch  Which of the following options best describes ...\n",
       "2        Hobbyist                            Do you code as a hobby?\n",
       "3     OpenSourcer        How often do you contribute to open source?\n",
       "4      OpenSource  How do you feel about the quality of open sour...\n",
       "5      Employment  Which of the following best describes your cur...\n",
       "6         Country          In which country do you currently reside?\n",
       "7         Student  Are you currently enrolled in a formal, degree...\n",
       "8         EdLevel  Which of the following best describes the high...\n",
       "9  UndergradMajor  What was your main or most important field of ..."
      ]
     },
     "execution_count": 13,
     "metadata": {},
     "output_type": "execute_result"
    }
   ],
   "source": [
    "schema_df.head(10)"
   ]
  },
  {
   "cell_type": "code",
   "execution_count": null,
   "id": "88bc809f",
   "metadata": {},
   "outputs": [],
   "source": []
  },
  {
   "cell_type": "code",
   "execution_count": 14,
   "id": "64488e10",
   "metadata": {},
   "outputs": [],
   "source": [
    "people = {\n",
    "    \"first\": [\"Corey\", \" Jane\", \"Jon\"],\n",
    "    \"last\": [\"Schafer\", \"Doe\", \"Doe\"],\n",
    "    \"email\": [\"schafer@gmail.com\", \"JDoe@email.com\", \"jond@email.com\"]   \n",
    "}"
   ]
  },
  {
   "cell_type": "code",
   "execution_count": 15,
   "id": "1147b091",
   "metadata": {},
   "outputs": [
    {
     "data": {
      "text/plain": [
       "['Schafer', 'Doe', 'Doe']"
      ]
     },
     "execution_count": 15,
     "metadata": {},
     "output_type": "execute_result"
    }
   ],
   "source": [
    "people['last']"
   ]
  },
  {
   "cell_type": "code",
   "execution_count": 17,
   "id": "58c967e2",
   "metadata": {},
   "outputs": [
    {
     "data": {
      "text/html": [
       "<div>\n",
       "<style scoped>\n",
       "    .dataframe tbody tr th:only-of-type {\n",
       "        vertical-align: middle;\n",
       "    }\n",
       "\n",
       "    .dataframe tbody tr th {\n",
       "        vertical-align: top;\n",
       "    }\n",
       "\n",
       "    .dataframe thead th {\n",
       "        text-align: right;\n",
       "    }\n",
       "</style>\n",
       "<table border=\"1\" class=\"dataframe\">\n",
       "  <thead>\n",
       "    <tr style=\"text-align: right;\">\n",
       "      <th></th>\n",
       "      <th>first</th>\n",
       "      <th>last</th>\n",
       "      <th>email</th>\n",
       "    </tr>\n",
       "  </thead>\n",
       "  <tbody>\n",
       "    <tr>\n",
       "      <th>0</th>\n",
       "      <td>Corey</td>\n",
       "      <td>Schafer</td>\n",
       "      <td>schafer@gmail.com</td>\n",
       "    </tr>\n",
       "    <tr>\n",
       "      <th>1</th>\n",
       "      <td>Jane</td>\n",
       "      <td>Doe</td>\n",
       "      <td>JDoe@email.com</td>\n",
       "    </tr>\n",
       "    <tr>\n",
       "      <th>2</th>\n",
       "      <td>Jon</td>\n",
       "      <td>Doe</td>\n",
       "      <td>jond@email.com</td>\n",
       "    </tr>\n",
       "  </tbody>\n",
       "</table>\n",
       "</div>"
      ],
      "text/plain": [
       "   first     last              email\n",
       "0  Corey  Schafer  schafer@gmail.com\n",
       "1   Jane      Doe     JDoe@email.com\n",
       "2    Jon      Doe     jond@email.com"
      ]
     },
     "execution_count": 17,
     "metadata": {},
     "output_type": "execute_result"
    }
   ],
   "source": [
    "df1 = pd.DataFrame(people)\n",
    "df1"
   ]
  },
  {
   "cell_type": "code",
   "execution_count": 18,
   "id": "c7a88a0d",
   "metadata": {},
   "outputs": [
    {
     "data": {
      "text/plain": [
       "pandas.core.series.Series"
      ]
     },
     "execution_count": 18,
     "metadata": {},
     "output_type": "execute_result"
    }
   ],
   "source": [
    "type(df1['email'])"
   ]
  },
  {
   "cell_type": "code",
   "execution_count": 19,
   "id": "94aa2a36",
   "metadata": {},
   "outputs": [
    {
     "data": {
      "text/plain": [
       "0    schafer@gmail.com\n",
       "1       JDoe@email.com\n",
       "2       jond@email.com\n",
       "Name: email, dtype: object"
      ]
     },
     "execution_count": 19,
     "metadata": {},
     "output_type": "execute_result"
    }
   ],
   "source": [
    "df1.email"
   ]
  },
  {
   "cell_type": "code",
   "execution_count": 20,
   "id": "8ca79336",
   "metadata": {},
   "outputs": [
    {
     "data": {
      "text/plain": [
       "0    schafer@gmail.com\n",
       "1       JDoe@email.com\n",
       "2       jond@email.com\n",
       "Name: email, dtype: object"
      ]
     },
     "execution_count": 20,
     "metadata": {},
     "output_type": "execute_result"
    }
   ],
   "source": [
    "df1['email']"
   ]
  },
  {
   "cell_type": "code",
   "execution_count": 21,
   "id": "9b29f1d7",
   "metadata": {},
   "outputs": [
    {
     "data": {
      "text/html": [
       "<div>\n",
       "<style scoped>\n",
       "    .dataframe tbody tr th:only-of-type {\n",
       "        vertical-align: middle;\n",
       "    }\n",
       "\n",
       "    .dataframe tbody tr th {\n",
       "        vertical-align: top;\n",
       "    }\n",
       "\n",
       "    .dataframe thead th {\n",
       "        text-align: right;\n",
       "    }\n",
       "</style>\n",
       "<table border=\"1\" class=\"dataframe\">\n",
       "  <thead>\n",
       "    <tr style=\"text-align: right;\">\n",
       "      <th></th>\n",
       "      <th>last</th>\n",
       "      <th>email</th>\n",
       "    </tr>\n",
       "  </thead>\n",
       "  <tbody>\n",
       "    <tr>\n",
       "      <th>0</th>\n",
       "      <td>Schafer</td>\n",
       "      <td>schafer@gmail.com</td>\n",
       "    </tr>\n",
       "    <tr>\n",
       "      <th>1</th>\n",
       "      <td>Doe</td>\n",
       "      <td>JDoe@email.com</td>\n",
       "    </tr>\n",
       "    <tr>\n",
       "      <th>2</th>\n",
       "      <td>Doe</td>\n",
       "      <td>jond@email.com</td>\n",
       "    </tr>\n",
       "  </tbody>\n",
       "</table>\n",
       "</div>"
      ],
      "text/plain": [
       "      last              email\n",
       "0  Schafer  schafer@gmail.com\n",
       "1      Doe     JDoe@email.com\n",
       "2      Doe     jond@email.com"
      ]
     },
     "execution_count": 21,
     "metadata": {},
     "output_type": "execute_result"
    }
   ],
   "source": [
    "# to access a list of columns we pass a list of colnamse as a list which will return a df not a list\n",
    "df1[['last', 'email']]"
   ]
  },
  {
   "cell_type": "code",
   "execution_count": 22,
   "id": "7cbb0d26",
   "metadata": {},
   "outputs": [
    {
     "data": {
      "text/plain": [
       "Index(['first', 'last', 'email'], dtype='object')"
      ]
     },
     "execution_count": 22,
     "metadata": {},
     "output_type": "execute_result"
    }
   ],
   "source": [
    "df1.columns"
   ]
  },
  {
   "cell_type": "code",
   "execution_count": 23,
   "id": "98681ead",
   "metadata": {},
   "outputs": [
    {
     "data": {
      "text/plain": [
       "first                Corey\n",
       "last               Schafer\n",
       "email    schafer@gmail.com\n",
       "Name: 0, dtype: object"
      ]
     },
     "execution_count": 23,
     "metadata": {},
     "output_type": "execute_result"
    }
   ],
   "source": [
    "df1.iloc[0] # return a series/list"
   ]
  },
  {
   "cell_type": "code",
   "execution_count": 24,
   "id": "80596788",
   "metadata": {},
   "outputs": [
    {
     "data": {
      "text/html": [
       "<div>\n",
       "<style scoped>\n",
       "    .dataframe tbody tr th:only-of-type {\n",
       "        vertical-align: middle;\n",
       "    }\n",
       "\n",
       "    .dataframe tbody tr th {\n",
       "        vertical-align: top;\n",
       "    }\n",
       "\n",
       "    .dataframe thead th {\n",
       "        text-align: right;\n",
       "    }\n",
       "</style>\n",
       "<table border=\"1\" class=\"dataframe\">\n",
       "  <thead>\n",
       "    <tr style=\"text-align: right;\">\n",
       "      <th></th>\n",
       "      <th>first</th>\n",
       "      <th>last</th>\n",
       "      <th>email</th>\n",
       "    </tr>\n",
       "  </thead>\n",
       "  <tbody>\n",
       "    <tr>\n",
       "      <th>1</th>\n",
       "      <td>Jane</td>\n",
       "      <td>Doe</td>\n",
       "      <td>JDoe@email.com</td>\n",
       "    </tr>\n",
       "    <tr>\n",
       "      <th>2</th>\n",
       "      <td>Jon</td>\n",
       "      <td>Doe</td>\n",
       "      <td>jond@email.com</td>\n",
       "    </tr>\n",
       "  </tbody>\n",
       "</table>\n",
       "</div>"
      ],
      "text/plain": [
       "   first last           email\n",
       "1   Jane  Doe  JDoe@email.com\n",
       "2    Jon  Doe  jond@email.com"
      ]
     },
     "execution_count": 24,
     "metadata": {},
     "output_type": "execute_result"
    }
   ],
   "source": [
    "df1.iloc[[1,2]]"
   ]
  },
  {
   "cell_type": "code",
   "execution_count": 25,
   "id": "95c36b6e",
   "metadata": {},
   "outputs": [
    {
     "data": {
      "text/plain": [
       "0    schafer@gmail.com\n",
       "1       JDoe@email.com\n",
       "Name: email, dtype: object"
      ]
     },
     "execution_count": 25,
     "metadata": {},
     "output_type": "execute_result"
    }
   ],
   "source": [
    "df1.iloc[[0, 1], 2]"
   ]
  },
  {
   "cell_type": "code",
   "execution_count": 26,
   "id": "9a6780ac",
   "metadata": {},
   "outputs": [
    {
     "data": {
      "text/plain": [
       "first                Corey\n",
       "last               Schafer\n",
       "email    schafer@gmail.com\n",
       "Name: 0, dtype: object"
      ]
     },
     "execution_count": 26,
     "metadata": {},
     "output_type": "execute_result"
    }
   ],
   "source": [
    "df1.loc[0]"
   ]
  },
  {
   "cell_type": "code",
   "execution_count": 27,
   "id": "2d64a873",
   "metadata": {},
   "outputs": [
    {
     "data": {
      "text/html": [
       "<div>\n",
       "<style scoped>\n",
       "    .dataframe tbody tr th:only-of-type {\n",
       "        vertical-align: middle;\n",
       "    }\n",
       "\n",
       "    .dataframe tbody tr th {\n",
       "        vertical-align: top;\n",
       "    }\n",
       "\n",
       "    .dataframe thead th {\n",
       "        text-align: right;\n",
       "    }\n",
       "</style>\n",
       "<table border=\"1\" class=\"dataframe\">\n",
       "  <thead>\n",
       "    <tr style=\"text-align: right;\">\n",
       "      <th></th>\n",
       "      <th>email</th>\n",
       "      <th>last</th>\n",
       "    </tr>\n",
       "  </thead>\n",
       "  <tbody>\n",
       "    <tr>\n",
       "      <th>0</th>\n",
       "      <td>schafer@gmail.com</td>\n",
       "      <td>Schafer</td>\n",
       "    </tr>\n",
       "    <tr>\n",
       "      <th>1</th>\n",
       "      <td>JDoe@email.com</td>\n",
       "      <td>Doe</td>\n",
       "    </tr>\n",
       "  </tbody>\n",
       "</table>\n",
       "</div>"
      ],
      "text/plain": [
       "               email     last\n",
       "0  schafer@gmail.com  Schafer\n",
       "1     JDoe@email.com      Doe"
      ]
     },
     "execution_count": 27,
     "metadata": {},
     "output_type": "execute_result"
    }
   ],
   "source": [
    "df1.loc[[0,1], ['email', 'last']]"
   ]
  },
  {
   "cell_type": "code",
   "execution_count": null,
   "id": "ba27e77c",
   "metadata": {},
   "outputs": [],
   "source": []
  },
  {
   "cell_type": "code",
   "execution_count": 28,
   "id": "e7575982",
   "metadata": {},
   "outputs": [
    {
     "data": {
      "text/plain": [
       "(88883, 85)"
      ]
     },
     "execution_count": 28,
     "metadata": {},
     "output_type": "execute_result"
    }
   ],
   "source": [
    "df.shape"
   ]
  },
  {
   "cell_type": "code",
   "execution_count": 30,
   "id": "4a579ebc",
   "metadata": {},
   "outputs": [
    {
     "data": {
      "text/plain": [
       "Hobbyist\n",
       "Yes    71257\n",
       "No     17626\n",
       "Name: count, dtype: int64"
      ]
     },
     "execution_count": 30,
     "metadata": {},
     "output_type": "execute_result"
    }
   ],
   "source": [
    "df['Hobbyist'].value_counts()"
   ]
  },
  {
   "cell_type": "code",
   "execution_count": 36,
   "id": "c733f9a6",
   "metadata": {},
   "outputs": [
    {
     "data": {
      "text/plain": [
       "3     No\n",
       "4    Yes\n",
       "5    Yes\n",
       "6     No\n",
       "Name: Hobbyist, dtype: object"
      ]
     },
     "execution_count": 36,
     "metadata": {},
     "output_type": "execute_result"
    }
   ],
   "source": [
    "df.loc[[0,2,3,6], 'Hobbyist']"
   ]
  },
  {
   "cell_type": "code",
   "execution_count": 37,
   "id": "e4252a70",
   "metadata": {},
   "outputs": [
    {
     "data": {
      "text/html": [
       "<div>\n",
       "<style scoped>\n",
       "    .dataframe tbody tr th:only-of-type {\n",
       "        vertical-align: middle;\n",
       "    }\n",
       "\n",
       "    .dataframe tbody tr th {\n",
       "        vertical-align: top;\n",
       "    }\n",
       "\n",
       "    .dataframe thead th {\n",
       "        text-align: right;\n",
       "    }\n",
       "</style>\n",
       "<table border=\"1\" class=\"dataframe\">\n",
       "  <thead>\n",
       "    <tr style=\"text-align: right;\">\n",
       "      <th></th>\n",
       "      <th>Hobbyist</th>\n",
       "      <th>OpenSourcer</th>\n",
       "      <th>OpenSource</th>\n",
       "      <th>Employment</th>\n",
       "    </tr>\n",
       "  </thead>\n",
       "  <tbody>\n",
       "    <tr>\n",
       "      <th>3</th>\n",
       "      <td>No</td>\n",
       "      <td>Never</td>\n",
       "      <td>The quality of OSS and closed source software ...</td>\n",
       "      <td>Employed full-time</td>\n",
       "    </tr>\n",
       "    <tr>\n",
       "      <th>4</th>\n",
       "      <td>Yes</td>\n",
       "      <td>Once a month or more often</td>\n",
       "      <td>OSS is, on average, of HIGHER quality than pro...</td>\n",
       "      <td>Employed full-time</td>\n",
       "    </tr>\n",
       "    <tr>\n",
       "      <th>5</th>\n",
       "      <td>Yes</td>\n",
       "      <td>Never</td>\n",
       "      <td>The quality of OSS and closed source software ...</td>\n",
       "      <td>Employed full-time</td>\n",
       "    </tr>\n",
       "    <tr>\n",
       "      <th>6</th>\n",
       "      <td>No</td>\n",
       "      <td>Never</td>\n",
       "      <td>The quality of OSS and closed source software ...</td>\n",
       "      <td>Independent contractor, freelancer, or self-em...</td>\n",
       "    </tr>\n",
       "  </tbody>\n",
       "</table>\n",
       "</div>"
      ],
      "text/plain": [
       "  Hobbyist                 OpenSourcer  \\\n",
       "3       No                       Never   \n",
       "4      Yes  Once a month or more often   \n",
       "5      Yes                       Never   \n",
       "6       No                       Never   \n",
       "\n",
       "                                          OpenSource  \\\n",
       "3  The quality of OSS and closed source software ...   \n",
       "4  OSS is, on average, of HIGHER quality than pro...   \n",
       "5  The quality of OSS and closed source software ...   \n",
       "6  The quality of OSS and closed source software ...   \n",
       "\n",
       "                                          Employment  \n",
       "3                                 Employed full-time  \n",
       "4                                 Employed full-time  \n",
       "5                                 Employed full-time  \n",
       "6  Independent contractor, freelancer, or self-em...  "
      ]
     },
     "execution_count": 37,
     "metadata": {},
     "output_type": "execute_result"
    }
   ],
   "source": [
    "#slicing dataframe in Pandas\n",
    "df.loc[3:6, 'Hobbyist': 'Employment']"
   ]
  },
  {
   "cell_type": "code",
   "execution_count": 45,
   "id": "d44b53b4",
   "metadata": {},
   "outputs": [
    {
     "ename": "KeyError",
     "evalue": "\"None of ['email'] are in the columns\"",
     "output_type": "error",
     "traceback": [
      "\u001b[1;31m---------------------------------------------------------------------------\u001b[0m",
      "\u001b[1;31mKeyError\u001b[0m                                  Traceback (most recent call last)",
      "\u001b[1;32mC:\\Temp\\ipykernel_18944\\223797668.py\u001b[0m in \u001b[0;36m?\u001b[1;34m()\u001b[0m\n\u001b[1;32m----> 1\u001b[1;33m \u001b[0mdf1\u001b[0m\u001b[1;33m.\u001b[0m\u001b[0mset_index\u001b[0m\u001b[1;33m(\u001b[0m\u001b[1;34m'email'\u001b[0m\u001b[1;33m,\u001b[0m \u001b[0minplace\u001b[0m\u001b[1;33m=\u001b[0m\u001b[1;32mTrue\u001b[0m\u001b[1;33m)\u001b[0m\u001b[1;33m\u001b[0m\u001b[1;33m\u001b[0m\u001b[0m\n\u001b[0m",
      "\u001b[1;32m~\\anaconda3\\Lib\\site-packages\\pandas\\core\\frame.py\u001b[0m in \u001b[0;36m?\u001b[1;34m(self, keys, drop, append, inplace, verify_integrity)\u001b[0m\n\u001b[0;32m   5855\u001b[0m                     \u001b[1;32mif\u001b[0m \u001b[1;32mnot\u001b[0m \u001b[0mfound\u001b[0m\u001b[1;33m:\u001b[0m\u001b[1;33m\u001b[0m\u001b[1;33m\u001b[0m\u001b[0m\n\u001b[0;32m   5856\u001b[0m                         \u001b[0mmissing\u001b[0m\u001b[1;33m.\u001b[0m\u001b[0mappend\u001b[0m\u001b[1;33m(\u001b[0m\u001b[0mcol\u001b[0m\u001b[1;33m)\u001b[0m\u001b[1;33m\u001b[0m\u001b[1;33m\u001b[0m\u001b[0m\n\u001b[0;32m   5857\u001b[0m \u001b[1;33m\u001b[0m\u001b[0m\n\u001b[0;32m   5858\u001b[0m         \u001b[1;32mif\u001b[0m \u001b[0mmissing\u001b[0m\u001b[1;33m:\u001b[0m\u001b[1;33m\u001b[0m\u001b[1;33m\u001b[0m\u001b[0m\n\u001b[1;32m-> 5859\u001b[1;33m             \u001b[1;32mraise\u001b[0m \u001b[0mKeyError\u001b[0m\u001b[1;33m(\u001b[0m\u001b[1;34mf\"None of {missing} are in the columns\"\u001b[0m\u001b[1;33m)\u001b[0m\u001b[1;33m\u001b[0m\u001b[1;33m\u001b[0m\u001b[0m\n\u001b[0m\u001b[0;32m   5860\u001b[0m \u001b[1;33m\u001b[0m\u001b[0m\n\u001b[0;32m   5861\u001b[0m         \u001b[1;32mif\u001b[0m \u001b[0minplace\u001b[0m\u001b[1;33m:\u001b[0m\u001b[1;33m\u001b[0m\u001b[1;33m\u001b[0m\u001b[0m\n\u001b[0;32m   5862\u001b[0m             \u001b[0mframe\u001b[0m \u001b[1;33m=\u001b[0m \u001b[0mself\u001b[0m\u001b[1;33m\u001b[0m\u001b[1;33m\u001b[0m\u001b[0m\n",
      "\u001b[1;31mKeyError\u001b[0m: \"None of ['email'] are in the columns\""
     ]
    }
   ],
   "source": [
    "df1.set_index('email', inplace=True)\n"
   ]
  },
  {
   "cell_type": "code",
   "execution_count": 46,
   "id": "29613158",
   "metadata": {},
   "outputs": [
    {
     "data": {
      "text/html": [
       "<div>\n",
       "<style scoped>\n",
       "    .dataframe tbody tr th:only-of-type {\n",
       "        vertical-align: middle;\n",
       "    }\n",
       "\n",
       "    .dataframe tbody tr th {\n",
       "        vertical-align: top;\n",
       "    }\n",
       "\n",
       "    .dataframe thead th {\n",
       "        text-align: right;\n",
       "    }\n",
       "</style>\n",
       "<table border=\"1\" class=\"dataframe\">\n",
       "  <thead>\n",
       "    <tr style=\"text-align: right;\">\n",
       "      <th></th>\n",
       "      <th>first</th>\n",
       "      <th>last</th>\n",
       "    </tr>\n",
       "    <tr>\n",
       "      <th>email</th>\n",
       "      <th></th>\n",
       "      <th></th>\n",
       "    </tr>\n",
       "  </thead>\n",
       "  <tbody>\n",
       "    <tr>\n",
       "      <th>schafer@gmail.com</th>\n",
       "      <td>Corey</td>\n",
       "      <td>Schafer</td>\n",
       "    </tr>\n",
       "    <tr>\n",
       "      <th>JDoe@email.com</th>\n",
       "      <td>Jane</td>\n",
       "      <td>Doe</td>\n",
       "    </tr>\n",
       "    <tr>\n",
       "      <th>jond@email.com</th>\n",
       "      <td>Jon</td>\n",
       "      <td>Doe</td>\n",
       "    </tr>\n",
       "  </tbody>\n",
       "</table>\n",
       "</div>"
      ],
      "text/plain": [
       "                   first     last\n",
       "email                            \n",
       "schafer@gmail.com  Corey  Schafer\n",
       "JDoe@email.com      Jane      Doe\n",
       "jond@email.com       Jon      Doe"
      ]
     },
     "execution_count": 46,
     "metadata": {},
     "output_type": "execute_result"
    }
   ],
   "source": [
    "df1"
   ]
  },
  {
   "cell_type": "code",
   "execution_count": 42,
   "id": "f7da7fcc",
   "metadata": {},
   "outputs": [
    {
     "data": {
      "text/plain": [
       "Index(['schafer@gmail.com', 'JDoe@email.com', 'jond@email.com'], dtype='object', name='email')"
      ]
     },
     "execution_count": 42,
     "metadata": {},
     "output_type": "execute_result"
    }
   ],
   "source": [
    "df1.index"
   ]
  },
  {
   "cell_type": "code",
   "execution_count": 47,
   "id": "b1e48d6c",
   "metadata": {},
   "outputs": [
    {
     "data": {
      "text/plain": [
       "first    Jon\n",
       "last     Doe\n",
       "Name: jond@email.com, dtype: object"
      ]
     },
     "execution_count": 47,
     "metadata": {},
     "output_type": "execute_result"
    }
   ],
   "source": [
    "df1.loc['jond@email.com']"
   ]
  },
  {
   "cell_type": "code",
   "execution_count": 48,
   "id": "2cccdf88",
   "metadata": {},
   "outputs": [
    {
     "data": {
      "text/plain": [
       "'Jon'"
      ]
     },
     "execution_count": 48,
     "metadata": {},
     "output_type": "execute_result"
    }
   ],
   "source": [
    "df1.loc['jond@email.com', 'first']"
   ]
  },
  {
   "cell_type": "code",
   "execution_count": 49,
   "id": "c9ea028d",
   "metadata": {},
   "outputs": [
    {
     "data": {
      "text/plain": [
       "first      Corey\n",
       "last     Schafer\n",
       "Name: schafer@gmail.com, dtype: object"
      ]
     },
     "execution_count": 49,
     "metadata": {},
     "output_type": "execute_result"
    }
   ],
   "source": [
    "df1.iloc[0]"
   ]
  },
  {
   "cell_type": "code",
   "execution_count": 50,
   "id": "3436a39b",
   "metadata": {},
   "outputs": [],
   "source": [
    "df1.reset_index(inplace=True)"
   ]
  },
  {
   "cell_type": "code",
   "execution_count": 51,
   "id": "b1c4f7fd",
   "metadata": {},
   "outputs": [
    {
     "data": {
      "text/html": [
       "<div>\n",
       "<style scoped>\n",
       "    .dataframe tbody tr th:only-of-type {\n",
       "        vertical-align: middle;\n",
       "    }\n",
       "\n",
       "    .dataframe tbody tr th {\n",
       "        vertical-align: top;\n",
       "    }\n",
       "\n",
       "    .dataframe thead th {\n",
       "        text-align: right;\n",
       "    }\n",
       "</style>\n",
       "<table border=\"1\" class=\"dataframe\">\n",
       "  <thead>\n",
       "    <tr style=\"text-align: right;\">\n",
       "      <th></th>\n",
       "      <th>email</th>\n",
       "      <th>first</th>\n",
       "      <th>last</th>\n",
       "    </tr>\n",
       "  </thead>\n",
       "  <tbody>\n",
       "    <tr>\n",
       "      <th>0</th>\n",
       "      <td>schafer@gmail.com</td>\n",
       "      <td>Corey</td>\n",
       "      <td>Schafer</td>\n",
       "    </tr>\n",
       "    <tr>\n",
       "      <th>1</th>\n",
       "      <td>JDoe@email.com</td>\n",
       "      <td>Jane</td>\n",
       "      <td>Doe</td>\n",
       "    </tr>\n",
       "    <tr>\n",
       "      <th>2</th>\n",
       "      <td>jond@email.com</td>\n",
       "      <td>Jon</td>\n",
       "      <td>Doe</td>\n",
       "    </tr>\n",
       "  </tbody>\n",
       "</table>\n",
       "</div>"
      ],
      "text/plain": [
       "               email  first     last\n",
       "0  schafer@gmail.com  Corey  Schafer\n",
       "1     JDoe@email.com   Jane      Doe\n",
       "2     jond@email.com    Jon      Doe"
      ]
     },
     "execution_count": 51,
     "metadata": {},
     "output_type": "execute_result"
    }
   ],
   "source": [
    "df1"
   ]
  },
  {
   "cell_type": "markdown",
   "id": "5f46d34c",
   "metadata": {},
   "source": [
    "**why using indexes are useful: "
   ]
  },
  {
   "cell_type": "code",
   "execution_count": 52,
   "id": "f3083176",
   "metadata": {},
   "outputs": [],
   "source": [
    "df = pd.read_csv('Data/stack-overflow-developer-survey-2019/survey_results_public.csv', index_col='Respondent')"
   ]
  },
  {
   "cell_type": "code",
   "execution_count": 56,
   "id": "51df76d7",
   "metadata": {},
   "outputs": [
    {
     "data": {
      "text/plain": [
       "MainBranch                 I am a student who is learning to code\n",
       "Hobbyist                                                      Yes\n",
       "OpenSourcer                                                 Never\n",
       "OpenSource      The quality of OSS and closed source software ...\n",
       "Employment                 Not employed, and not looking for work\n",
       "                                      ...                        \n",
       "Sexuality                                 Straight / Heterosexual\n",
       "Ethnicity                                                     NaN\n",
       "Dependents                                                     No\n",
       "SurveyLength                                Appropriate in length\n",
       "SurveyEase                             Neither easy nor difficult\n",
       "Name: 1, Length: 84, dtype: object"
      ]
     },
     "execution_count": 56,
     "metadata": {},
     "output_type": "execute_result"
    }
   ],
   "source": [
    "#df.loc[0]\n",
    "df.loc[1]"
   ]
  },
  {
   "cell_type": "code",
   "execution_count": 59,
   "id": "ccd45b80",
   "metadata": {},
   "outputs": [],
   "source": [
    "schema_df = pd.read_csv('Data/stack-overflow-developer-survey-2019/survey_results_schema.csv', index_col = 'Column')"
   ]
  },
  {
   "cell_type": "code",
   "execution_count": 60,
   "id": "3ad51ad8",
   "metadata": {},
   "outputs": [
    {
     "data": {
      "text/plain": [
       "QuestionText    Do you code as a hobby?\n",
       "Name: Hobbyist, dtype: object"
      ]
     },
     "execution_count": 60,
     "metadata": {},
     "output_type": "execute_result"
    }
   ],
   "source": [
    "# here we can see what Hobbyist means\n",
    "schema_df.loc['Hobbyist']"
   ]
  },
  {
   "cell_type": "code",
   "execution_count": 62,
   "id": "49ee8c43",
   "metadata": {},
   "outputs": [
    {
     "data": {
      "text/plain": [
       "'How confident are you that your manager knows what they’re doing?'"
      ]
     },
     "execution_count": 62,
     "metadata": {},
     "output_type": "execute_result"
    }
   ],
   "source": [
    "schema_df.loc['MgrIdiot', 'QuestionText']"
   ]
  },
  {
   "cell_type": "code",
   "execution_count": 64,
   "id": "029371a3",
   "metadata": {},
   "outputs": [],
   "source": [
    "# soriting index\n",
    "#inplace option change the DF \n",
    "schema_df.sort_index(inplace=True)"
   ]
  },
  {
   "cell_type": "code",
   "execution_count": null,
   "id": "33a7b73d",
   "metadata": {},
   "outputs": [],
   "source": []
  },
  {
   "cell_type": "markdown",
   "id": "7d7f9218",
   "metadata": {},
   "source": [
    "** Filtering data "
   ]
  },
  {
   "cell_type": "code",
   "execution_count": 66,
   "id": "f73a16bc",
   "metadata": {},
   "outputs": [],
   "source": [
    "filt = (df1['last'] == 'Doe')"
   ]
  },
  {
   "cell_type": "code",
   "execution_count": 67,
   "id": "139af0dc",
   "metadata": {},
   "outputs": [
    {
     "data": {
      "text/html": [
       "<div>\n",
       "<style scoped>\n",
       "    .dataframe tbody tr th:only-of-type {\n",
       "        vertical-align: middle;\n",
       "    }\n",
       "\n",
       "    .dataframe tbody tr th {\n",
       "        vertical-align: top;\n",
       "    }\n",
       "\n",
       "    .dataframe thead th {\n",
       "        text-align: right;\n",
       "    }\n",
       "</style>\n",
       "<table border=\"1\" class=\"dataframe\">\n",
       "  <thead>\n",
       "    <tr style=\"text-align: right;\">\n",
       "      <th></th>\n",
       "      <th>email</th>\n",
       "      <th>first</th>\n",
       "      <th>last</th>\n",
       "    </tr>\n",
       "  </thead>\n",
       "  <tbody>\n",
       "    <tr>\n",
       "      <th>1</th>\n",
       "      <td>JDoe@email.com</td>\n",
       "      <td>Jane</td>\n",
       "      <td>Doe</td>\n",
       "    </tr>\n",
       "    <tr>\n",
       "      <th>2</th>\n",
       "      <td>jond@email.com</td>\n",
       "      <td>Jon</td>\n",
       "      <td>Doe</td>\n",
       "    </tr>\n",
       "  </tbody>\n",
       "</table>\n",
       "</div>"
      ],
      "text/plain": [
       "            email  first last\n",
       "1  JDoe@email.com   Jane  Doe\n",
       "2  jond@email.com    Jon  Doe"
      ]
     },
     "execution_count": 67,
     "metadata": {},
     "output_type": "execute_result"
    }
   ],
   "source": [
    "df1[filt]"
   ]
  },
  {
   "cell_type": "code",
   "execution_count": 68,
   "id": "f5ba0897",
   "metadata": {},
   "outputs": [
    {
     "data": {
      "text/html": [
       "<div>\n",
       "<style scoped>\n",
       "    .dataframe tbody tr th:only-of-type {\n",
       "        vertical-align: middle;\n",
       "    }\n",
       "\n",
       "    .dataframe tbody tr th {\n",
       "        vertical-align: top;\n",
       "    }\n",
       "\n",
       "    .dataframe thead th {\n",
       "        text-align: right;\n",
       "    }\n",
       "</style>\n",
       "<table border=\"1\" class=\"dataframe\">\n",
       "  <thead>\n",
       "    <tr style=\"text-align: right;\">\n",
       "      <th></th>\n",
       "      <th>email</th>\n",
       "      <th>first</th>\n",
       "      <th>last</th>\n",
       "    </tr>\n",
       "  </thead>\n",
       "  <tbody>\n",
       "    <tr>\n",
       "      <th>1</th>\n",
       "      <td>JDoe@email.com</td>\n",
       "      <td>Jane</td>\n",
       "      <td>Doe</td>\n",
       "    </tr>\n",
       "    <tr>\n",
       "      <th>2</th>\n",
       "      <td>jond@email.com</td>\n",
       "      <td>Jon</td>\n",
       "      <td>Doe</td>\n",
       "    </tr>\n",
       "  </tbody>\n",
       "</table>\n",
       "</div>"
      ],
      "text/plain": [
       "            email  first last\n",
       "1  JDoe@email.com   Jane  Doe\n",
       "2  jond@email.com    Jon  Doe"
      ]
     },
     "execution_count": 68,
     "metadata": {},
     "output_type": "execute_result"
    }
   ],
   "source": [
    "#2nd wayy to filter data\n",
    "df1[df1['last'] == 'Doe']"
   ]
  },
  {
   "cell_type": "code",
   "execution_count": 69,
   "id": "9b9ccc35",
   "metadata": {},
   "outputs": [],
   "source": [
    "filt = (df1['last'] == 'Doe') & (df1['first'] == 'Jon')"
   ]
  },
  {
   "cell_type": "code",
   "execution_count": 71,
   "id": "debcb4eb",
   "metadata": {},
   "outputs": [
    {
     "data": {
      "text/plain": [
       "2    jond@email.com\n",
       "Name: email, dtype: object"
      ]
     },
     "execution_count": 71,
     "metadata": {},
     "output_type": "execute_result"
    }
   ],
   "source": [
    "df1.loc[filt, 'email']"
   ]
  },
  {
   "cell_type": "code",
   "execution_count": 73,
   "id": "bacd59ba",
   "metadata": {},
   "outputs": [
    {
     "data": {
      "text/plain": [
       "0    schafer@gmail.com\n",
       "1       JDoe@email.com\n",
       "Name: email, dtype: object"
      ]
     },
     "execution_count": 73,
     "metadata": {},
     "output_type": "execute_result"
    }
   ],
   "source": [
    "# to negate the filter\n",
    "df1.loc[~filt, 'email']"
   ]
  },
  {
   "cell_type": "code",
   "execution_count": null,
   "id": "69a0dc44",
   "metadata": {},
   "outputs": [],
   "source": []
  },
  {
   "cell_type": "code",
   "execution_count": 77,
   "id": "31be9a06",
   "metadata": {},
   "outputs": [],
   "source": [
    "# create a filter with high salary\n",
    "high_salary = (df['ConvertedComp'] > 70000)\n",
    "# df.loc[high_salary] # pass the filter to  .loc"
   ]
  },
  {
   "cell_type": "code",
   "execution_count": 79,
   "id": "2d06b556",
   "metadata": {},
   "outputs": [
    {
     "data": {
      "text/html": [
       "<div>\n",
       "<style scoped>\n",
       "    .dataframe tbody tr th:only-of-type {\n",
       "        vertical-align: middle;\n",
       "    }\n",
       "\n",
       "    .dataframe tbody tr th {\n",
       "        vertical-align: top;\n",
       "    }\n",
       "\n",
       "    .dataframe thead th {\n",
       "        text-align: right;\n",
       "    }\n",
       "</style>\n",
       "<table border=\"1\" class=\"dataframe\">\n",
       "  <thead>\n",
       "    <tr style=\"text-align: right;\">\n",
       "      <th></th>\n",
       "      <th>Country</th>\n",
       "      <th>LanguageWorkedWith</th>\n",
       "      <th>ConvertedComp</th>\n",
       "    </tr>\n",
       "    <tr>\n",
       "      <th>Respondent</th>\n",
       "      <th></th>\n",
       "      <th></th>\n",
       "      <th></th>\n",
       "    </tr>\n",
       "  </thead>\n",
       "  <tbody>\n",
       "    <tr>\n",
       "      <th>6</th>\n",
       "      <td>Canada</td>\n",
       "      <td>Java;R;SQL</td>\n",
       "      <td>366420.0</td>\n",
       "    </tr>\n",
       "    <tr>\n",
       "      <th>9</th>\n",
       "      <td>New Zealand</td>\n",
       "      <td>Bash/Shell/PowerShell;C#;HTML/CSS;JavaScript;P...</td>\n",
       "      <td>95179.0</td>\n",
       "    </tr>\n",
       "    <tr>\n",
       "      <th>13</th>\n",
       "      <td>United States</td>\n",
       "      <td>Bash/Shell/PowerShell;HTML/CSS;JavaScript;PHP;...</td>\n",
       "      <td>90000.0</td>\n",
       "    </tr>\n",
       "    <tr>\n",
       "      <th>16</th>\n",
       "      <td>United Kingdom</td>\n",
       "      <td>Bash/Shell/PowerShell;C#;HTML/CSS;JavaScript;T...</td>\n",
       "      <td>455352.0</td>\n",
       "    </tr>\n",
       "    <tr>\n",
       "      <th>22</th>\n",
       "      <td>United States</td>\n",
       "      <td>Bash/Shell/PowerShell;C++;HTML/CSS;JavaScript;...</td>\n",
       "      <td>103000.0</td>\n",
       "    </tr>\n",
       "    <tr>\n",
       "      <th>...</th>\n",
       "      <td>...</td>\n",
       "      <td>...</td>\n",
       "      <td>...</td>\n",
       "    </tr>\n",
       "    <tr>\n",
       "      <th>88876</th>\n",
       "      <td>United States</td>\n",
       "      <td>Bash/Shell/PowerShell;C#;HTML/CSS;Java;Python;...</td>\n",
       "      <td>180000.0</td>\n",
       "    </tr>\n",
       "    <tr>\n",
       "      <th>88877</th>\n",
       "      <td>United States</td>\n",
       "      <td>Bash/Shell/PowerShell;C;Clojure;HTML/CSS;Java;...</td>\n",
       "      <td>2000000.0</td>\n",
       "    </tr>\n",
       "    <tr>\n",
       "      <th>88878</th>\n",
       "      <td>United States</td>\n",
       "      <td>HTML/CSS;JavaScript;Scala;TypeScript</td>\n",
       "      <td>130000.0</td>\n",
       "    </tr>\n",
       "    <tr>\n",
       "      <th>88879</th>\n",
       "      <td>Finland</td>\n",
       "      <td>Bash/Shell/PowerShell;C++;Python</td>\n",
       "      <td>82488.0</td>\n",
       "    </tr>\n",
       "    <tr>\n",
       "      <th>88882</th>\n",
       "      <td>Netherlands</td>\n",
       "      <td>C#;HTML/CSS;Java;JavaScript;PHP;Python</td>\n",
       "      <td>588012.0</td>\n",
       "    </tr>\n",
       "  </tbody>\n",
       "</table>\n",
       "<p>22289 rows × 3 columns</p>\n",
       "</div>"
      ],
      "text/plain": [
       "                   Country                                 LanguageWorkedWith  \\\n",
       "Respondent                                                                      \n",
       "6                   Canada                                         Java;R;SQL   \n",
       "9              New Zealand  Bash/Shell/PowerShell;C#;HTML/CSS;JavaScript;P...   \n",
       "13           United States  Bash/Shell/PowerShell;HTML/CSS;JavaScript;PHP;...   \n",
       "16          United Kingdom  Bash/Shell/PowerShell;C#;HTML/CSS;JavaScript;T...   \n",
       "22           United States  Bash/Shell/PowerShell;C++;HTML/CSS;JavaScript;...   \n",
       "...                    ...                                                ...   \n",
       "88876        United States  Bash/Shell/PowerShell;C#;HTML/CSS;Java;Python;...   \n",
       "88877        United States  Bash/Shell/PowerShell;C;Clojure;HTML/CSS;Java;...   \n",
       "88878        United States               HTML/CSS;JavaScript;Scala;TypeScript   \n",
       "88879              Finland                   Bash/Shell/PowerShell;C++;Python   \n",
       "88882          Netherlands             C#;HTML/CSS;Java;JavaScript;PHP;Python   \n",
       "\n",
       "            ConvertedComp  \n",
       "Respondent                 \n",
       "6                366420.0  \n",
       "9                 95179.0  \n",
       "13                90000.0  \n",
       "16               455352.0  \n",
       "22               103000.0  \n",
       "...                   ...  \n",
       "88876            180000.0  \n",
       "88877           2000000.0  \n",
       "88878            130000.0  \n",
       "88879             82488.0  \n",
       "88882            588012.0  \n",
       "\n",
       "[22289 rows x 3 columns]"
      ]
     },
     "execution_count": 79,
     "metadata": {},
     "output_type": "execute_result"
    }
   ],
   "source": [
    "df.loc[high_salary, ['Country', 'LanguageWorkedWith', 'ConvertedComp']]"
   ]
  },
  {
   "cell_type": "code",
   "execution_count": 81,
   "id": "1e3d3b5d",
   "metadata": {},
   "outputs": [],
   "source": [
    "# no filter the results based on 5 countries\n",
    "countries = ['United States', 'India', 'United Kingdom', 'Germany', 'Canada']\n",
    "filt = df['Country'].isin(countries)"
   ]
  },
  {
   "cell_type": "code",
   "execution_count": 82,
   "id": "503981a2",
   "metadata": {},
   "outputs": [
    {
     "data": {
      "text/plain": [
       "Respondent\n",
       "1        United Kingdom\n",
       "4         United States\n",
       "6                Canada\n",
       "8                 India\n",
       "10                India\n",
       "              ...      \n",
       "85642     United States\n",
       "85961    United Kingdom\n",
       "86012             India\n",
       "88282     United States\n",
       "88377            Canada\n",
       "Name: Country, Length: 45008, dtype: object"
      ]
     },
     "execution_count": 82,
     "metadata": {},
     "output_type": "execute_result"
    }
   ],
   "source": [
    "df.loc[filt, 'Country']"
   ]
  },
  {
   "cell_type": "code",
   "execution_count": 84,
   "id": "75b2256c",
   "metadata": {},
   "outputs": [
    {
     "data": {
      "text/plain": [
       "Respondent\n",
       "1                          HTML/CSS;Java;JavaScript;Python\n",
       "2                                      C++;HTML/CSS;Python\n",
       "3                                                 HTML/CSS\n",
       "4                                      C;C++;C#;Python;SQL\n",
       "5              C++;HTML/CSS;Java;JavaScript;Python;SQL;VBA\n",
       "                               ...                        \n",
       "88377                        HTML/CSS;JavaScript;Other(s):\n",
       "88601                                                  NaN\n",
       "88802                                                  NaN\n",
       "88816                                                  NaN\n",
       "88863    Bash/Shell/PowerShell;HTML/CSS;Java;JavaScript...\n",
       "Name: LanguageWorkedWith, Length: 88883, dtype: object"
      ]
     },
     "execution_count": 84,
     "metadata": {},
     "output_type": "execute_result"
    }
   ],
   "source": [
    "# to filter on a field that is seperated by semicolon \n",
    "df['LanguageWorkedWith']"
   ]
  },
  {
   "cell_type": "code",
   "execution_count": 86,
   "id": "6caeba70",
   "metadata": {},
   "outputs": [
    {
     "data": {
      "text/plain": [
       "Respondent\n",
       "1                          HTML/CSS;Java;JavaScript;Python\n",
       "2                                      C++;HTML/CSS;Python\n",
       "4                                      C;C++;C#;Python;SQL\n",
       "5              C++;HTML/CSS;Java;JavaScript;Python;SQL;VBA\n",
       "8        Bash/Shell/PowerShell;C;C++;HTML/CSS;Java;Java...\n",
       "                               ...                        \n",
       "84539    Bash/Shell/PowerShell;C;C++;HTML/CSS;Java;Java...\n",
       "85738      Bash/Shell/PowerShell;C++;Python;Ruby;Other(s):\n",
       "86566      Bash/Shell/PowerShell;HTML/CSS;Python;Other(s):\n",
       "87739             C;C++;HTML/CSS;JavaScript;PHP;Python;SQL\n",
       "88212                           HTML/CSS;JavaScript;Python\n",
       "Name: LanguageWorkedWith, Length: 36443, dtype: object"
      ]
     },
     "execution_count": 86,
     "metadata": {},
     "output_type": "execute_result"
    }
   ],
   "source": [
    "filt = df ['LanguageWorkedWith'].str.contains('Python', na= False)\n",
    "df.loc[filt, 'LanguageWorkedWith']"
   ]
  },
  {
   "cell_type": "code",
   "execution_count": 87,
   "id": "91fe0eb6",
   "metadata": {},
   "outputs": [
    {
     "data": {
      "text/plain": [
       "Respondent\n",
       "1         True\n",
       "2         True\n",
       "3        False\n",
       "4         True\n",
       "5         True\n",
       "         ...  \n",
       "88377    False\n",
       "88601    False\n",
       "88802    False\n",
       "88816    False\n",
       "88863    False\n",
       "Name: LanguageWorkedWith, Length: 88883, dtype: bool"
      ]
     },
     "execution_count": 87,
     "metadata": {},
     "output_type": "execute_result"
    }
   ],
   "source": [
    "filt"
   ]
  },
  {
   "cell_type": "code",
   "execution_count": null,
   "id": "4b4c1db3",
   "metadata": {},
   "outputs": [],
   "source": []
  },
  {
   "cell_type": "code",
   "execution_count": null,
   "id": "bba5c37a",
   "metadata": {},
   "outputs": [],
   "source": []
  },
  {
   "cell_type": "code",
   "execution_count": null,
   "id": "fa06bfdd",
   "metadata": {},
   "outputs": [],
   "source": []
  },
  {
   "cell_type": "code",
   "execution_count": null,
   "id": "efcaef64",
   "metadata": {},
   "outputs": [],
   "source": []
  },
  {
   "cell_type": "code",
   "execution_count": null,
   "id": "74ca44b3",
   "metadata": {},
   "outputs": [],
   "source": []
  },
  {
   "cell_type": "code",
   "execution_count": null,
   "id": "68636cfe",
   "metadata": {},
   "outputs": [],
   "source": []
  },
  {
   "cell_type": "code",
   "execution_count": null,
   "id": "05ec3a44",
   "metadata": {},
   "outputs": [],
   "source": []
  },
  {
   "cell_type": "code",
   "execution_count": null,
   "id": "6edac09b",
   "metadata": {},
   "outputs": [],
   "source": []
  },
  {
   "cell_type": "code",
   "execution_count": null,
   "id": "5662bed3",
   "metadata": {},
   "outputs": [],
   "source": []
  },
  {
   "cell_type": "code",
   "execution_count": null,
   "id": "daeb1296",
   "metadata": {},
   "outputs": [],
   "source": []
  },
  {
   "cell_type": "code",
   "execution_count": null,
   "id": "f61d58b3",
   "metadata": {},
   "outputs": [],
   "source": []
  },
  {
   "cell_type": "code",
   "execution_count": null,
   "id": "ab2bf4c1",
   "metadata": {},
   "outputs": [],
   "source": []
  }
 ],
 "metadata": {
  "kernelspec": {
   "display_name": "Python 3 (ipykernel)",
   "language": "python",
   "name": "python3"
  },
  "language_info": {
   "codemirror_mode": {
    "name": "ipython",
    "version": 3
   },
   "file_extension": ".py",
   "mimetype": "text/x-python",
   "name": "python",
   "nbconvert_exporter": "python",
   "pygments_lexer": "ipython3",
   "version": "3.11.5"
  }
 },
 "nbformat": 4,
 "nbformat_minor": 5
}
