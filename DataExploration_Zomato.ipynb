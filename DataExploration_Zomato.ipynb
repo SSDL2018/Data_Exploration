{
 "cells": [
  {
   "cell_type": "code",
   "execution_count": 2,
   "id": "03f5816d",
   "metadata": {},
   "outputs": [],
   "source": [
    "import numpy as np\n",
    "import pandas as pd\n",
    "\n",
    "pd.options.display.max_columns = 99"
   ]
  },
  {
   "cell_type": "markdown",
   "id": "40456865",
   "metadata": {},
   "source": [
    "# About Dataset\n",
    "\n",
    "**Zomato dataset** \n",
    "\n",
    "Gathered using Selenium in Python over two weeks in October 2023, features details from 45,000+ restaurants across different parts of India. It includes restaurant names, ratings, cuisine, average price, delivery time, safety measures, and geographic locations. The focus is on the top 100 cities, offering a snapshot of the diverse culinary landscape during this period. Ideal for researchers, analysts, and enthusiasts exploring culinary trends, safety impact on user preferences, or conducting geographical studies. Ethically gathered and compliant with Zomato's terms of service.\n",
    "\n",
    "Link to data: \n",
    "https://www.kaggle.com/datasets/rrkcoder/zomato-data-40k-restaurants-of-indias-100-cities"
   ]
  },
  {
   "cell_type": "code",
   "execution_count": 3,
   "id": "92677863",
   "metadata": {},
   "outputs": [],
   "source": [
    "zomato = pd.read_csv('./Data/zomato_dataset.csv', sep=',')"
   ]
  },
  {
   "cell_type": "code",
   "execution_count": 5,
   "id": "da88ae74",
   "metadata": {},
   "outputs": [
    {
     "name": "stdout",
     "output_type": "stream",
     "text": [
      "(44891, 7)\n"
     ]
    },
    {
     "data": {
      "text/html": [
       "<div>\n",
       "<style scoped>\n",
       "    .dataframe tbody tr th:only-of-type {\n",
       "        vertical-align: middle;\n",
       "    }\n",
       "\n",
       "    .dataframe tbody tr th {\n",
       "        vertical-align: top;\n",
       "    }\n",
       "\n",
       "    .dataframe thead th {\n",
       "        text-align: right;\n",
       "    }\n",
       "</style>\n",
       "<table border=\"1\" class=\"dataframe\">\n",
       "  <thead>\n",
       "    <tr style=\"text-align: right;\">\n",
       "      <th></th>\n",
       "      <th>Restaurant Name</th>\n",
       "      <th>Rating</th>\n",
       "      <th>Cuisine</th>\n",
       "      <th>Average Price</th>\n",
       "      <th>Average Delivery Time</th>\n",
       "      <th>Safety Measure</th>\n",
       "      <th>Location</th>\n",
       "    </tr>\n",
       "  </thead>\n",
       "  <tbody>\n",
       "    <tr>\n",
       "      <th>0</th>\n",
       "      <td>Campus Bakers</td>\n",
       "      <td>4.3</td>\n",
       "      <td>Bakery, Fast Food, Pizza, Sandwich, Burger</td>\n",
       "      <td>₹50 for one</td>\n",
       "      <td>36 min</td>\n",
       "      <td>Restaurant partner follows WHO protocol</td>\n",
       "      <td>Agra</td>\n",
       "    </tr>\n",
       "    <tr>\n",
       "      <th>1</th>\n",
       "      <td>Mama Chicken Mama Franky House</td>\n",
       "      <td>4</td>\n",
       "      <td>North Indian, Mughlai, Rolls, Burger, Momos</td>\n",
       "      <td>₹50 for one</td>\n",
       "      <td>22 min</td>\n",
       "      <td>Follows all Max Safety measures to ensure your...</td>\n",
       "      <td>Agra</td>\n",
       "    </tr>\n",
       "    <tr>\n",
       "      <th>2</th>\n",
       "      <td>GMB - Gopika Sweets &amp; Restaurant</td>\n",
       "      <td>4.2</td>\n",
       "      <td>North Indian, South Indian, Chinese, Fast Food...</td>\n",
       "      <td>₹50 for one</td>\n",
       "      <td>27 min</td>\n",
       "      <td>Follows all Max Safety measures to ensure your...</td>\n",
       "      <td>Agra</td>\n",
       "    </tr>\n",
       "    <tr>\n",
       "      <th>3</th>\n",
       "      <td>Shree Bankey Bihari Misthan Bhandar</td>\n",
       "      <td>4.2</td>\n",
       "      <td>Mithai, Street Food, South Indian, Chinese, Ic...</td>\n",
       "      <td>₹50 for one</td>\n",
       "      <td>28 min</td>\n",
       "      <td>Restaurant partner follows WHO protocol</td>\n",
       "      <td>Agra</td>\n",
       "    </tr>\n",
       "    <tr>\n",
       "      <th>4</th>\n",
       "      <td>Burger King</td>\n",
       "      <td>4.2</td>\n",
       "      <td>Burger, Fast Food, Beverages</td>\n",
       "      <td>₹50 for one</td>\n",
       "      <td>26 min</td>\n",
       "      <td>Follows all Max Safety measures to ensure your...</td>\n",
       "      <td>Agra</td>\n",
       "    </tr>\n",
       "  </tbody>\n",
       "</table>\n",
       "</div>"
      ],
      "text/plain": [
       "                       Restaurant Name Rating  \\\n",
       "0                        Campus Bakers    4.3   \n",
       "1       Mama Chicken Mama Franky House      4   \n",
       "2     GMB - Gopika Sweets & Restaurant    4.2   \n",
       "3  Shree Bankey Bihari Misthan Bhandar    4.2   \n",
       "4                          Burger King    4.2   \n",
       "\n",
       "                                             Cuisine Average Price  \\\n",
       "0         Bakery, Fast Food, Pizza, Sandwich, Burger   ₹50 for one   \n",
       "1        North Indian, Mughlai, Rolls, Burger, Momos   ₹50 for one   \n",
       "2  North Indian, South Indian, Chinese, Fast Food...   ₹50 for one   \n",
       "3  Mithai, Street Food, South Indian, Chinese, Ic...   ₹50 for one   \n",
       "4                       Burger, Fast Food, Beverages   ₹50 for one   \n",
       "\n",
       "  Average Delivery Time                                     Safety Measure  \\\n",
       "0                36 min            Restaurant partner follows WHO protocol   \n",
       "1                22 min  Follows all Max Safety measures to ensure your...   \n",
       "2                27 min  Follows all Max Safety measures to ensure your...   \n",
       "3                28 min            Restaurant partner follows WHO protocol   \n",
       "4                26 min  Follows all Max Safety measures to ensure your...   \n",
       "\n",
       "  Location  \n",
       "0     Agra  \n",
       "1     Agra  \n",
       "2     Agra  \n",
       "3     Agra  \n",
       "4     Agra  "
      ]
     },
     "execution_count": 5,
     "metadata": {},
     "output_type": "execute_result"
    }
   ],
   "source": [
    "print(zomato.shape)\n",
    "zomato.head()"
   ]
  },
  {
   "cell_type": "code",
   "execution_count": null,
   "id": "4c868945",
   "metadata": {},
   "outputs": [],
   "source": []
  },
  {
   "cell_type": "code",
   "execution_count": null,
   "id": "375644e3",
   "metadata": {},
   "outputs": [],
   "source": []
  },
  {
   "cell_type": "code",
   "execution_count": null,
   "id": "f0f983c6",
   "metadata": {},
   "outputs": [],
   "source": []
  },
  {
   "cell_type": "code",
   "execution_count": null,
   "id": "2231e1d0",
   "metadata": {},
   "outputs": [],
   "source": []
  },
  {
   "cell_type": "code",
   "execution_count": null,
   "id": "42723fb5",
   "metadata": {},
   "outputs": [],
   "source": []
  }
 ],
 "metadata": {
  "kernelspec": {
   "display_name": "Python 3 (ipykernel)",
   "language": "python",
   "name": "python3"
  },
  "language_info": {
   "codemirror_mode": {
    "name": "ipython",
    "version": 3
   },
   "file_extension": ".py",
   "mimetype": "text/x-python",
   "name": "python",
   "nbconvert_exporter": "python",
   "pygments_lexer": "ipython3",
   "version": "3.11.5"
  }
 },
 "nbformat": 4,
 "nbformat_minor": 5
}
